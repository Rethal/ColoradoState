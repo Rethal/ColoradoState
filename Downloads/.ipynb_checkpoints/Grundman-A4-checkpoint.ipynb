{
 "cells": [
  {
   "cell_type": "markdown",
   "metadata": {
    "deletable": true,
    "editable": true
   },
   "source": [
    "$\\newcommand{\\xv}{\\mathbf{x}}\n",
    "\\newcommand{\\Xv}{\\mathbf{X}}\n",
    "\\newcommand{\\yv}{\\mathbf{y}}\n",
    "\\newcommand{\\zv}{\\mathbf{z}}\n",
    "\\newcommand{\\av}{\\mathbf{a}}\n",
    "\\newcommand{\\Wv}{\\mathbf{W}}\n",
    "\\newcommand{\\wv}{\\mathbf{w}}\n",
    "\\newcommand{\\tv}{\\mathbf{t}}\n",
    "\\newcommand{\\Tv}{\\mathbf{T}}\n",
    "\\newcommand{\\muv}{\\boldsymbol{\\mu}}\n",
    "\\newcommand{\\sigmav}{\\boldsymbol{\\sigma}}\n",
    "\\newcommand{\\phiv}{\\boldsymbol{\\phi}}\n",
    "\\newcommand{\\Phiv}{\\boldsymbol{\\Phi}}\n",
    "\\newcommand{\\Sigmav}{\\boldsymbol{\\Sigma}}\n",
    "\\newcommand{\\Lambdav}{\\boldsymbol{\\Lambda}}\n",
    "\\newcommand{\\half}{\\frac{1}{2}}\n",
    "\\newcommand{\\argmax}[1]{\\underset{#1}{\\operatorname{argmax}}}\n",
    "\\newcommand{\\argmin}[1]{\\underset{#1}{\\operatorname{argmin}}}$"
   ]
  },
  {
   "cell_type": "markdown",
   "metadata": {
    "deletable": true,
    "editable": true
   },
   "source": [
    "# Assignment 4: Classification with LDA and Logistic Regression"
   ]
  },
  {
   "cell_type": "markdown",
   "metadata": {
    "deletable": true,
    "editable": true
   },
   "source": [
    "Brenton Grundman \n",
    "\n",
    "829460164"
   ]
  },
  {
   "cell_type": "markdown",
   "metadata": {
    "deletable": true,
    "editable": true
   },
   "source": [
    "## Overview"
   ]
  },
  {
   "cell_type": "markdown",
   "metadata": {
    "deletable": true,
    "editable": true
   },
   "source": [
    "Compare LDA and linear and nonlinear logistic regression applied to two data sets."
   ]
  },
  {
   "cell_type": "markdown",
   "metadata": {
    "deletable": true,
    "editable": true
   },
   "source": [
    "## Code"
   ]
  },
  {
   "cell_type": "markdown",
   "metadata": {
    "deletable": true,
    "editable": true
   },
   "source": [
    "The `parameters` argument for `trainNN` is a list of the hidden layers structure and the number of SCG iterations, as in the previous assignment. The value of the `parameters` argument for `trainLDA` is not used.\n",
    "\n",
    "Use the `trainValidateTestKFoldsClassification` function in `mlutils.py` to apply the functions. \n",
    "\n",
    "The `NeuralNetworkClassifier` class in the above `neuralnetworks.py` file allows you to specify 0 hidden units.  This creates a neural network with just the output layer designed to do classification.  In other words, specify 0 hidden units to apply linear logistic regression."
   ]
  },
  {
   "cell_type": "code",
   "execution_count": 159,
   "metadata": {
    "collapsed": true,
    "deletable": true,
    "editable": true
   },
   "outputs": [],
   "source": [
    "import numpy as np\n",
    "import mlutils as ml\n",
    "import neuralnetworks as nn\n",
    "import qdalda as ql"
   ]
  },
  {
   "cell_type": "code",
   "execution_count": 160,
   "metadata": {
    "collapsed": false,
    "deletable": true,
    "editable": true
   },
   "outputs": [],
   "source": [
    "def trainLDA(X,T,parameters = 0):\n",
    "    lda = ql.LDA()\n",
    "    lda.train(X,T)\n",
    "    return lda\n",
    "def evaluateLDA(model,X,T):\n",
    "    predicted,prob,d = model.use(X)\n",
    "    percentCorrect = 100*(np.sum(T==predicted)/float(T.shape[0]))\n",
    "    return percentCorrect\n",
    "def trainNN(X,T,parameters):\n",
    "    nnet = nn.NeuralNetworkClassifier(X.shape[1],parameters[0],len(np.unique(T)))\n",
    "    return nnet.train(X, T, nIterations=parameters[1])\n",
    "def evaluateNN(model,X,T):\n",
    "    predict = model.use(X)\n",
    "    percentCorrect = 100*(np.sum(T == predict)/float(T.shape[0]))\n",
    "    return percentCorrect"
   ]
  },
  {
   "cell_type": "markdown",
   "metadata": {
    "deletable": true,
    "editable": true
   },
   "source": [
    "Here is an example, using our automobile MPG data.  This time, instead of predicting the actual MPG values, we quantize the MPG values into 5 intervals, and classify each sample as being in one of these 5 intervals."
   ]
  },
  {
   "cell_type": "markdown",
   "metadata": {
    "deletable": true,
    "editable": true
   },
   "source": [
    "## Data"
   ]
  },
  {
   "cell_type": "code",
   "execution_count": 161,
   "metadata": {
    "collapsed": false,
    "deletable": true,
    "editable": true
   },
   "outputs": [
    {
     "name": "stderr",
     "output_type": "stream",
     "text": [
      "SYSTEM_WGETRC = c:/progra~1/wget/etc/wgetrc\n",
      "syswgetrc = c:/progra~1/wget/etc/wgetrc\n",
      "--2017-04-05 18:44:52--  http://mlr.cs.umass.edu/ml/machine-learning-databases/auto-mpg/auto-mpg.data\n",
      "Resolving mlr.cs.umass.edu... 128.119.246.96\n",
      "Connecting to mlr.cs.umass.edu|128.119.246.96|:80... connected.\n",
      "HTTP request sent, awaiting response... 200 OK\n",
      "Length: 30286 (30K) [text/plain]\n",
      "Saving to: `auto-mpg.data.3'\n",
      "\n",
      "     0K .......... .......... .........                       100%  336K=0.09s\n",
      "\n",
      "2017-04-05 18:44:52 (336 KB/s) - `auto-mpg.data.3' saved [30286/30286]\n",
      "\n",
      "SYSTEM_WGETRC = c:/progra~1/wget/etc/wgetrc\n",
      "syswgetrc = c:/progra~1/wget/etc/wgetrc\n",
      "--2017-04-05 18:44:53--  http://mlr.cs.umass.edu/ml/machine-learning-databases/auto-mpg/auto-mpg.names\n",
      "Resolving mlr.cs.umass.edu... 128.119.246.96\n",
      "Connecting to mlr.cs.umass.edu|128.119.246.96|:80... connected.\n",
      "HTTP request sent, awaiting response... 200 OK\n",
      "Length: 1660 (1.6K) [text/plain]\n",
      "Saving to: `auto-mpg.names.3'\n",
      "\n",
      "     0K .                                                     100% 20.3M=0s\n",
      "\n",
      "2017-04-05 18:44:53 (20.3 MB/s) - `auto-mpg.names.3' saved [1660/1660]\n",
      "\n"
     ]
    }
   ],
   "source": [
    "!wget http://mlr.cs.umass.edu/ml/machine-learning-databases/auto-mpg/auto-mpg.data\n",
    "!wget http://mlr.cs.umass.edu/ml/machine-learning-databases/auto-mpg/auto-mpg.names"
   ]
  },
  {
   "cell_type": "code",
   "execution_count": 162,
   "metadata": {
    "collapsed": true,
    "deletable": true,
    "editable": true
   },
   "outputs": [],
   "source": [
    "def makeMPGData(filename='auto-mpg.data'):\n",
    "    def missingIsNan(s):\n",
    "        return np.nan if s == b'?' else float(s)\n",
    "    data = np.loadtxt(filename, usecols=range(8), converters={3: missingIsNan})\n",
    "    print(\"Read\",data.shape[0],\"rows and\",data.shape[1],\"columns from\",filename)\n",
    "    goodRowsMask = np.isnan(data).sum(axis=1) == 0\n",
    "    data = data[goodRowsMask,:]\n",
    "    print(\"After removing rows containing question marks, data has\",data.shape[0],\"rows and\",data.shape[1],\"columns.\")\n",
    "    X = data[:,1:]\n",
    "    T = data[:,0:1]\n",
    "    Xnames =  ['cylinders','displacement','horsepower','weight','acceleration','year','origin']\n",
    "    Tname = 'mpg'\n",
    "    return X,T,Xnames,Tname"
   ]
  },
  {
   "cell_type": "code",
   "execution_count": 163,
   "metadata": {
    "collapsed": true,
    "deletable": true,
    "editable": true
   },
   "outputs": [],
   "source": [
    "def makeMPGClasses(T):\n",
    "    bounds = np.arange(5,45,10)\n",
    "    Tclasses = -np.ones(T.shape).astype(np.int)\n",
    "    for i,mpg in enumerate(T):\n",
    "        for k in range(len(bounds)-1):\n",
    "            if bounds[k] < mpg <= bounds[k+1]:\n",
    "                Tclasses[i] = bounds[k+1]\n",
    "        if Tclasses[i] == -1:\n",
    "            Tclasses[i] = 50  # max mpg is 46.6\n",
    "    return Tclasses"
   ]
  },
  {
   "cell_type": "code",
   "execution_count": 164,
   "metadata": {
    "collapsed": false,
    "deletable": true,
    "editable": true
   },
   "outputs": [
    {
     "name": "stdout",
     "output_type": "stream",
     "text": [
      "Read 398 rows and 8 columns from auto-mpg.data\n",
      "After removing rows containing question marks, data has 392 rows and 8 columns.\n",
      "classes [15 25 35 50]\n",
      "counts [ 69 167 123  33]\n"
     ]
    }
   ],
   "source": [
    "X,T,Xnames,Tname = makeMPGData('auto-mpg.data')\n",
    "Tclasses = makeMPGClasses(T)\n",
    "classes,counts = np.unique(Tclasses,return_counts=True)\n",
    "print('classes',classes)\n",
    "print('counts',counts)"
   ]
  },
  {
   "cell_type": "code",
   "execution_count": 165,
   "metadata": {
    "collapsed": true,
    "deletable": true,
    "editable": true
   },
   "outputs": [],
   "source": [
    "def printResults(label,results):\n",
    "    print('{:4s} {:>20s}{:>8s}{:>8s}{:>8s}'.format('Algo','Parameters','TrnAcc','ValAcc','TesAcc'))\n",
    "    print('-------------------------------------------------')\n",
    "    for row in results:\n",
    "        # 20 is expected maximum number of characters in printed parameter value list\n",
    "        print('{:>4s} {:>20s} {:7.2f} {:7.2f} {:7.2f}'.format(label,str(row[0]),*row[1:]))"
   ]
  },
  {
   "cell_type": "code",
   "execution_count": 166,
   "metadata": {
    "collapsed": false,
    "deletable": true,
    "editable": true
   },
   "outputs": [
    {
     "name": "stdout",
     "output_type": "stream",
     "text": [
      "\n",
      "Algo           Parameters  TrnAcc  ValAcc  TesAcc\n",
      "-------------------------------------------------\n",
      "LDA:                 None   79.21   70.53   56.04\n",
      "LDA:                 None   75.58   66.36   80.23\n",
      "LDA:                 None   78.46   67.19   82.72\n",
      "LDA:                 None   77.72   68.07   82.89\n",
      "LDA:                 None   79.75   69.57   69.01\n",
      "LDA:                 None   81.23   72.96   51.52\n"
     ]
    }
   ],
   "source": [
    "resultsLDA = ml.trainValidateTestKFoldsClassification( trainLDA,evaluateLDA, X,Tclasses, [None],\n",
    "                                                       nFolds=6, shuffle=False,verbose=False)\n",
    "printResults('LDA:',resultsLDA)"
   ]
  },
  {
   "cell_type": "code",
   "execution_count": 167,
   "metadata": {
    "collapsed": false,
    "deletable": true,
    "editable": true
   },
   "outputs": [
    {
     "name": "stdout",
     "output_type": "stream",
     "text": [
      "\n",
      "Algo           Parameters  TrnAcc  ValAcc  TesAcc\n",
      "-------------------------------------------------\n",
      " NN:            [[0], 10]   83.42   74.48   51.65\n",
      " NN:          [[10], 100]   92.47   71.47   80.23\n",
      " NN:          [[10], 100]   92.82   68.05   71.60\n",
      " NN:          [[10], 100]   93.42   73.30   72.37\n",
      " NN:            [[0], 10]   81.50   72.81   67.61\n",
      " NN:            [[0], 10]   82.96   78.98   48.48\n"
     ]
    }
   ],
   "source": [
    "resultsNN = ml.trainValidateTestKFoldsClassification( trainNN,evaluateNN, X,Tclasses, \n",
    "                                                     [ [ [0], 10], [[10], 100] ],\n",
    "                                                     nFolds=6, shuffle=False,verbose=False)\n",
    "printResults('NN:',resultsNN)"
   ]
  },
  {
   "cell_type": "code",
   "execution_count": 168,
   "metadata": {
    "collapsed": false,
    "deletable": true,
    "editable": true
   },
   "outputs": [
    {
     "name": "stdout",
     "output_type": "stream",
     "text": [
      "      15   25   35   50\n",
      "    ------------------------\n",
      "15 | 91.3  8.7  0    0     (69 / 69)\n",
      "25 | 11.4 68.9 18.6  1.2   (167 / 167)\n",
      "35 |  0    8.9 68.3 22.8   (123 / 123)\n",
      "50 |  0    0   18.2 81.8   (33 / 33)\n"
     ]
    }
   ],
   "source": [
    "lda = ql.LDA()\n",
    "lda.train(X,Tclasses)\n",
    "predictedClasses,_,_ = lda.use(X)\n",
    "ml.confusionMatrix(Tclasses,predictedClasses,classes); # <- semi-colon prevents printing of returned result"
   ]
  },
  {
   "cell_type": "markdown",
   "metadata": {
    "deletable": true,
    "editable": true
   },
   "source": [
    "## Results"
   ]
  },
  {
   "cell_type": "markdown",
   "metadata": {
    "deletable": true,
    "editable": true
   },
   "source": [
    "Obviously, trainNN and trainLDA train the neural network and the linear discriminant with data to be used for testing.  Unlike before, where we would train data on the whole and make comparisons against each other and seeing how close we could get, we are now looking at data and hoping to classify it into set categories.  For example, where we would once be trying to guess someone's next move in chess based on their previous playing style, now we are looking at their playing style and hoping to accurately guess what tier player they are.\n",
    "\n",
    "The evaluation functions are the interpretation of the trained functions, and tell us how accurately we guess.  For the most part, our data is in gaussian curves; generally, data will be separated enough that we can chunk out portions of the graph into different tiers.  Of course, data is rarely so cut-and-dry, and the edge cases are where discrepancies usually arise.  This is much like belts in Jiu Jitsu - while blue belts are clearly better than white belts, a white belt could be on the border of becoming a blue belt, or a blue belt could have just come from being a white belt.  For this reason, a white belt may be consistently be beating a blue belt, and the program could mistake their rankings.  The higher the percentage returned by the evaluations, the less commonly the program is dividing people into their respective ranks incorrectly.\n",
    "\n",
    "In the above (stolen and reused) data, we compare LDA training and NN training for classifying MPG.  In this case, the NN training seems to be more accurate than LDA, which only means that a linear division of the MPG is not an accurate way of dividing up the cars.  If it were, the LDA would be able to more appropriately classify cars by their MPG.\n",
    "\n",
    "However, this is only the case for the evaluation.  There's a clear flip in effectiveness once moving on to testing data.  Suddenly, the LDA appears to be a more effective classifier here.  It could be that the NN was overtrained (and overconfident), especially with its highly accurate training.\n",
    "\n",
    "When it comes down to it, mpg is hardly a good way of classifying anything on its own.  Ideally, there would be distinct classes, determined after training, that serve some classification purpose, such as identifying a type of animal (or at a much more computer intensive level, a specific person) from an image.  This would likely work well with LDA bu"
   ]
  },
  {
   "cell_type": "code",
   "execution_count": 169,
   "metadata": {
    "collapsed": false,
    "deletable": true,
    "editable": true
   },
   "outputs": [],
   "source": [
    "#%run -i A4grader.py"
   ]
  }
 ],
 "metadata": {
  "anaconda-cloud": {},
  "kernelspec": {
   "display_name": "Python 2",
   "language": "python",
   "name": "python2"
  },
  "language_info": {
   "codemirror_mode": {
    "name": "ipython",
    "version": 2
   },
   "file_extension": ".py",
   "mimetype": "text/x-python",
   "name": "python",
   "nbconvert_exporter": "python",
   "pygments_lexer": "ipython2",
   "version": "2.7.13"
  }
 },
 "nbformat": 4,
 "nbformat_minor": 0
}
