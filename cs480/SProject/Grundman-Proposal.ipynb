{
 "cells": [
  {
   "cell_type": "markdown",
   "metadata": {
    "deletable": true,
    "editable": true
   },
   "source": [
    "$\\newcommand{\\xv}{\\mathbf{x}}\n",
    "\\newcommand{\\Xv}{\\mathbf{X}}\n",
    "\\newcommand{\\yv}{\\mathbf{y}}\n",
    "\\newcommand{\\zv}{\\mathbf{z}}\n",
    "\\newcommand{\\av}{\\mathbf{a}}\n",
    "\\newcommand{\\Wv}{\\mathbf{W}}\n",
    "\\newcommand{\\wv}{\\mathbf{w}}\n",
    "\\newcommand{\\tv}{\\mathbf{t}}\n",
    "\\newcommand{\\Tv}{\\mathbf{T}}\n",
    "\\newcommand{\\muv}{\\boldsymbol{\\mu}}\n",
    "\\newcommand{\\sigmav}{\\boldsymbol{\\sigma}}\n",
    "\\newcommand{\\phiv}{\\boldsymbol{\\phi}}\n",
    "\\newcommand{\\Phiv}{\\boldsymbol{\\Phi}}\n",
    "\\newcommand{\\Sigmav}{\\boldsymbol{\\Sigma}}\n",
    "\\newcommand{\\Lambdav}{\\boldsymbol{\\Lambda}}\n",
    "\\newcommand{\\half}{\\frac{1}{2}}\n",
    "\\newcommand{\\argmax}[1]{\\underset{#1}{\\operatorname{argmax}}}\n",
    "\\newcommand{\\argmin}[1]{\\underset{#1}{\\operatorname{argmin}}}$"
   ]
  },
  {
   "cell_type": "markdown",
   "metadata": {
    "deletable": true,
    "editable": true
   },
   "source": [
    "# Project Proposal"
   ]
  },
  {
   "cell_type": "markdown",
   "metadata": {
    "deletable": true,
    "editable": true
   },
   "source": [
    "Brenton Grundman\n",
    "\n",
    "829460164"
   ]
  },
  {
   "cell_type": "markdown",
   "metadata": {
    "deletable": true,
    "editable": true
   },
   "source": [
    "## Introduction"
   ]
  },
  {
   "cell_type": "markdown",
   "metadata": {
    "deletable": true,
    "editable": true
   },
   "source": [
    "I intend to attempt image classification by direct pixel analysis - using images of men versus women and cats versus dogs, I will be doing primarily binary categorization.  I intend to test NN versus QDA and LDA to see which can most accurately categorize images as cat or dog, male or female.  I expect that the cat and dog images will not be extremely accurate due to inconsistent angles and such diversity in breeds, and the images may be too difficult to work with (and extract the animal's face from).  I will start with the male v female images, hopefully able to differentiate between the two consistently.\n",
    "\n",
    "Depending on the success of these experiments, I want to see if I can further categorize between species or between individual people.  The dataset I have for individual people is slightly small and I don't expect it to work, but I have high hopes for differentiating between men and women.\n",
    "\n",
    "I'm mostly interested in using these algorithms just to see if I can do it, honestly.  I just want to see how effective this approach can be to classify images.  I do wonder how well this could be applied to genome and DNA sequencing and would love to see a comparison of image versus genome, to see how well the images could approximate someone's DNA or how their DNA could approximate their aesthetic.  Unfortunately, I don't think there's good enough DNA sequencing yet to be able to do this (and there may be nurture factors rather than just nature), but it is something I'd be curious to see."
   ]
  },
  {
   "cell_type": "markdown",
   "metadata": {
    "deletable": true,
    "editable": true
   },
   "source": [
    "## Methods"
   ]
  },
  {
   "cell_type": "markdown",
   "metadata": {
    "deletable": true,
    "editable": true
   },
   "source": [
    "I intend to use NN, QDA, and LDA from class.  I also may learn and use the program that Jake went over in class.  Since most of the experiments have been attempted in one form or another, I may take a look at those approaches and try them myself."
   ]
  },
  {
   "cell_type": "markdown",
   "metadata": {
    "deletable": true,
    "editable": true
   },
   "source": [
    "## Possible Results"
   ]
  },
  {
   "cell_type": "markdown",
   "metadata": {
    "deletable": true,
    "editable": true
   },
   "source": [
    "I hope that I'll get accurate results differentiating between men and women, or cats and dogs, and I think I would get better luck trying to differentiate between breeds than cats or dogs on the whole.  Since I have a whole slew of breeds available to me I may even be able to do further categorization than just binary.  Further still, I may even attempt to differentiate between faces, but due to the exceedingly small data set, I don't expect high success with this attempt."
   ]
  },
  {
   "cell_type": "markdown",
   "metadata": {
    "deletable": true,
    "editable": true
   },
   "source": [
    "## Timeline"
   ]
  },
  {
   "cell_type": "markdown",
   "metadata": {
    "deletable": true,
    "editable": true
   },
   "source": [
    "Friday, 4/14 - Have designed the main experiment\n",
    "\n",
    "Sunday, 4/16 - Implement the experiment\n",
    "\n",
    "Sunday, 4/23 - Analyze the experiment\n",
    "\n",
    "Sunday, 4/30 - Finish notebook"
   ]
  }
 ],
 "metadata": {
  "kernelspec": {
   "display_name": "Python 2",
   "language": "python",
   "name": "python2"
  },
  "language_info": {
   "codemirror_mode": {
    "name": "ipython",
    "version": 2
   },
   "file_extension": ".py",
   "mimetype": "text/x-python",
   "name": "python",
   "nbconvert_exporter": "python",
   "pygments_lexer": "ipython2",
   "version": "2.7.13"
  }
 },
 "nbformat": 4,
 "nbformat_minor": 0
}
