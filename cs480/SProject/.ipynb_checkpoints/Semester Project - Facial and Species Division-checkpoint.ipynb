{
 "cells": [
  {
   "cell_type": "markdown",
   "metadata": {
    "deletable": true,
    "editable": true
   },
   "source": [
    "### Brenton Grundman\n",
    "#### 829460164"
   ]
  },
  {
   "cell_type": "markdown",
   "metadata": {
    "deletable": true,
    "editable": true
   },
   "source": [
    "# Facial and Species Division"
   ]
  },
  {
   "cell_type": "markdown",
   "metadata": {
    "deletable": true,
    "editable": true
   },
   "source": [
    "## Preliminary Notes to Self"
   ]
  },
  {
   "cell_type": "markdown",
   "metadata": {
    "deletable": true,
    "editable": true
   },
   "source": [
    "For nottingham faces: for each face, alter image to 442x539 by adding white rows equivalently at the top and bottom with emphasis on the bottom, and left and right with emphasis on the left, by dividing the difference in rows and columns from the maximum by 2.  This will help create more centralized images between which to make comparisons."
   ]
  },
  {
   "cell_type": "markdown",
   "metadata": {
    "deletable": true,
    "editable": true
   },
   "source": [
    "Need to print out the trained \"ghost image\" of the faces overlapping.  Also try to figure out the traits that previous layer may correspond to in case of the neural network.  "
   ]
  },
  {
   "cell_type": "markdown",
   "metadata": {
    "deletable": true,
    "editable": true
   },
   "source": [
    "## Used Links"
   ]
  },
  {
   "cell_type": "markdown",
   "metadata": {
    "deletable": true,
    "editable": true
   },
   "source": [
    "http://pics.stir.ac.uk/2D_face_sets.htm\n",
    "\n",
    "https://archive.ics.uci.edu/ml/datasets/Grammatical+Facial+Expressions#\n",
    "\n",
    "http://www.robots.ox.ac.uk/~vgg/data/pets/\n",
    "\n",
    "http://scikit-learn.org/stable/auto_examples/decomposition/plot_faces_decomposition.html"
   ]
  },
  {
   "cell_type": "markdown",
   "metadata": {
    "deletable": true,
    "editable": true
   },
   "source": [
    "## Necessary Code"
   ]
  },
  {
   "cell_type": "markdown",
   "metadata": {
    "deletable": true,
    "editable": true
   },
   "source": [
    "In order to train in the three alternate methods, we will need NN, LDA, and QDA code.  Further, we will need certain imports, as well as additional tangential code that has been used in the past.  Instead of putting all of the tangential code here, it is included in the other python code.\n",
    "\n",
    "mlutils is giving me some problems and after various attempts at fixing it, my best guess is that it's a problem with using the python 2 distribution instead of the 3 that I typically use.  The error that it's throwing is causing \"Run All\" to fail repeatedly which is getting really annoying - I may remove it entirely and just hope this does not negatively affect the project."
   ]
  },
  {
   "cell_type": "markdown",
   "metadata": {
    "deletable": true,
    "editable": true
   },
   "source": [
    "### Imports"
   ]
  },
  {
   "cell_type": "code",
   "execution_count": 3,
   "metadata": {
    "collapsed": false,
    "deletable": true,
    "editable": true
   },
   "outputs": [
    {
     "ename": "SyntaxError",
     "evalue": "invalid syntax (mlutils.py, line 102)",
     "output_type": "error",
     "traceback": [
      "\u001b[0;36m  File \u001b[0;32m\"mlutils.py\"\u001b[0;36m, line \u001b[0;32m102\u001b[0m\n\u001b[0;31m    print('   ',end='')\u001b[0m\n\u001b[0m                   ^\u001b[0m\n\u001b[0;31mSyntaxError\u001b[0m\u001b[0;31m:\u001b[0m invalid syntax\n"
     ]
    }
   ],
   "source": [
    "import numpy as np\n",
    "#import mlutils as ml\n",
    "import neuralnetworks as nn"
   ]
  },
  {
   "cell_type": "code",
   "execution_count": 4,
   "metadata": {
    "collapsed": false,
    "deletable": true,
    "editable": true,
    "scrolled": true
   },
   "outputs": [],
   "source": [
    "import qdalda as ql"
   ]
  },
  {
   "cell_type": "markdown",
   "metadata": {
    "deletable": true,
    "editable": true
   },
   "source": [
    "### Original Code"
   ]
  },
  {
   "cell_type": "code",
   "execution_count": 5,
   "metadata": {
    "collapsed": true,
    "deletable": true,
    "editable": true
   },
   "outputs": [],
   "source": [
    "def trainLDA(X,T,parameters = 0):\n",
    "    lda = ql.LDA()\n",
    "    lda.train(X,T)\n",
    "    return lda\n",
    "def evaluateLDA(model,X,T):\n",
    "    predicted,prob,d = model.use(X)\n",
    "    percentCorrect = 100*(np.sum(T==predicted)/float(T.shape[0]))\n",
    "    return percentCorrect\n",
    "def trainNN(X,T,parameters):\n",
    "    nnet = nn.NeuralNetworkClassifier(X.shape[1],parameters[0],len(np.unique(T)))\n",
    "    return nnet.train(X, T, nIterations=parameters[1])\n",
    "def evaluateNN(model,X,T):\n",
    "    predict = model.use(X)\n",
    "    percentCorrect = 100*(np.sum(T == predict)/float(T.shape[0]))\n",
    "    return percentCorrect"
   ]
  },
  {
   "cell_type": "code",
   "execution_count": 6,
   "metadata": {
    "collapsed": true,
    "deletable": true,
    "editable": true
   },
   "outputs": [],
   "source": [
    "def trainQDA(X,T,parameters = 0):\n",
    "    qda = ql.QDA()\n",
    "    qda.train(X,T)\n",
    "    return qda\n",
    "def evaluateQDA(model,X,T):\n",
    "    predicted,prob,d = model.use(X)\n",
    "    percentCorrect = 100*(np.sum(T==predicted)/float(T.shape[0]))\n",
    "    return percentCorrect"
   ]
  },
  {
   "cell_type": "markdown",
   "metadata": {
    "deletable": true,
    "editable": true
   },
   "source": [
    "## Useful for coding"
   ]
  },
  {
   "cell_type": "markdown",
   "metadata": {
    "deletable": true,
    "editable": true
   },
   "source": [
    "resizing images:\n",
    "\n",
    "resize_contain(image, size, validate=True)\n",
    "Resize the image so that it can fit in the specified area, keeping the ratio and without crop. It’s the same behavior as css background-size: contain property. A white a background border is created.\n",
    "\n",
    "Resize the image to minimum so that it is contained in a 200x100 rectangle is the ratio between source and destination image.\n",
    "\n",
    "from PIL import Image\n",
    "from resizeimage import resizeimage\n",
    "\n",
    "fd_img = open('test-image.jpeg', 'r')\n",
    "img = Image.open(fd_img)\n",
    "img = resizeimage.resize_contain(img, [200, 100])\n",
    "img.save('test-image-contain.jpeg', img.format)\n",
    "fd_img.close()"
   ]
  },
  {
   "cell_type": "markdown",
   "metadata": {
    "deletable": true,
    "editable": true
   },
   "source": [
    "printing:\n",
    "\n",
    "from IPython.display import Image\n",
    "Image(img/picture.png)"
   ]
  },
  {
   "cell_type": "markdown",
   "metadata": {
    "deletable": true,
    "editable": true
   },
   "source": [
    "for retrieving image names from file:\n",
    "\n",
    "import pandas\n",
    "io = pandas.read_csv('test.csv',sep=\",\",usecols=(1,2,4)) # To read 1st,2nd and 4th columns\n",
    "print io "
   ]
  },
  {
   "cell_type": "markdown",
   "metadata": {
    "deletable": true,
    "editable": true
   },
   "source": [
    "## Method"
   ]
  },
  {
   "cell_type": "markdown",
   "metadata": {
    "deletable": true,
    "editable": true
   },
   "source": [
    "First, I take in and resize all the images.  The images will be related to either male or female (or cat or dog) using the pixels directly.  There is a corresponding .txt file that has two values, the name of the file and a 0 for female or a 1 for male.  These are the classification values.  Via the training, an image should be created which is a ghostly representation of the training faces for each male and female, which will be generated and printed and subsequently used for testing the NN, LDA, and QDA against the faces.\n",
    "\n",
    "Alteration: Iterate through the files; any file that starts with an f is a female image, m is male.  Use this for training instead of creating a file.  The next code accomplishes this.  This makes the code more adaptable as all that is needed to add face images would be an appropriate naming style."
   ]
  },
  {
   "cell_type": "markdown",
   "metadata": {
    "deletable": true,
    "editable": true
   },
   "source": [
    "As I write this code and attempt different approaches, I will take notes of the problems I'm running into (as I'm worried that my lack of knowledge of Python will have, now that I've had to restart, not left me enough time to figure out how to fix the problems I'm running into).  This will help me keep track of what I've attempted in the past and show my thought process as to how to fix the problems I'm running into.  Hopefully I'll get to a point of being able to test and evaluate this code but we'll see."
   ]
  },
  {
   "cell_type": "code",
   "execution_count": 7,
   "metadata": {
    "collapsed": false,
    "deletable": true,
    "editable": true
   },
   "outputs": [
    {
     "name": "stdout",
     "output_type": "stream",
     "text": [
      "current file is: f005.jpg\n",
      "False\n",
      "[ 239.  239.  239. ...,   59.   59.   59.]\n",
      "current file is: f084.gif\n",
      "False\n",
      "current file is: f033.jpg\n",
      "False\n",
      "[ 494.  494.  494. ...,  314.  314.  314.]\n",
      "current file is: f085.gif\n",
      "False\n",
      "current file is: f038.jpg\n",
      "False\n",
      "[ 749.  749.  749. ...,  569.  569.  569.]\n",
      "current file is: m074.jpg\n",
      "True\n",
      "[ 132.  132.  132. ...,  255.  255.  255.]\n",
      "current file is: f059.png\n",
      "False\n",
      "current file is: f019.gif\n",
      "False\n",
      "current file is: f084.png\n",
      "False\n",
      "current file is: m093.gif\n",
      "True\n",
      "current file is: m030.png\n",
      "True\n",
      "current file is: m042.png\n",
      "True\n",
      "current file is: m093.jpg\n",
      "True\n",
      "[ 387.  387.  387. ...,  505.  505.  505.]\n",
      "current file is: f005.png\n",
      "False\n",
      "current file is: m096.png\n",
      "True\n",
      "current file is: m083.gif\n",
      "True\n",
      "current file is: f087.gif\n",
      "False\n",
      "current file is: f011.gif\n",
      "False\n",
      "current file is: m023.png\n",
      "True\n",
      "current file is: m070.jpg\n",
      "True\n",
      "[ 642.  642.  642. ...,  531.  531.  531.]\n",
      "current file is: m036.jpg\n",
      "True\n",
      "[ 897.  897.  897. ...,  784.  784.  784.]\n",
      "current file is: m078.png\n",
      "True\n",
      "current file is: m095.gif\n",
      "True\n",
      "current file is: f010.png\n",
      "False\n",
      "current file is: m074.gif\n",
      "True\n",
      "current file is: f029.gif\n",
      "False\n",
      "current file is: f081.png\n",
      "False\n",
      "current file is: f086.gif\n",
      "False\n",
      "current file is: f007.jpg\n",
      "False\n",
      "[ 1004.  1004.  1004. ...,   824.   824.   824.]\n",
      "current file is: f074.gif\n",
      "False\n",
      "current file is: m100.jpg\n",
      "True\n",
      "[ 1152.  1152.  1152. ...,   913.   913.   913.]\n",
      "current file is: m084.png\n",
      "True\n",
      "current file is: f094.gif\n",
      "False\n",
      "current file is: f067.gif\n",
      "False\n",
      "current file is: f068.jpg\n",
      "False\n",
      "[ 1259.  1259.  1259. ...,  1079.  1079.  1079.]\n",
      "current file is: f089.jpg\n",
      "False\n",
      "[ 1510.  1510.  1510. ...,  1334.  1334.  1334.]\n",
      "current file is: f061.jpg\n",
      "False\n",
      "[ 1765.  1765.  1765. ...,  1334.  1334.  1334.]\n",
      "current file is: f071.jpg\n",
      "False\n",
      "[ 2020.  2020.  2020. ...,  1589.  1589.  1589.]\n",
      "current file is: f050.png\n",
      "False\n",
      "current file is: f009.png\n",
      "False\n",
      "current file is: m049.gif\n",
      "True\n",
      "current file is: m075.jpg\n",
      "True\n",
      "[ 1259.  1259.  1259. ...,  1168.  1168.  1168.]\n",
      "current file is: f072.png\n",
      "False\n",
      "current file is: f061.gif\n",
      "False\n",
      "current file is: f072.gif\n",
      "False\n",
      "current file is: f063.gif\n",
      "False\n",
      "current file is: f009.jpg\n",
      "False\n",
      "[ 2233.  2233.  2233. ...,  1629.  1629.  1629.]\n",
      "current file is: m100.png\n",
      "True\n",
      "current file is: m051.gif\n",
      "True\n",
      "current file is: f042.jpg\n",
      "False\n",
      "[ 2488.  2488.  2488. ...,  1884.  1884.  1884.]\n",
      "current file is: f075.png\n",
      "False\n",
      "current file is: m076.png\n",
      "True\n",
      "current file is: f050.jpg\n",
      "False\n",
      "[ 2743.  2743.  2743. ...,  2139.  2139.  2139.]\n",
      "current file is: f068.gif\n",
      "False\n",
      "current file is: f086.png\n",
      "False\n",
      "current file is: f046.png\n",
      "False\n",
      "current file is: m043.jpg\n",
      "True\n",
      "[ 1451.  1451.  1451. ...,  1387.  1387.  1387.]\n",
      "current file is: f007.gif\n",
      "False\n",
      "current file is: f021.png\n",
      "False\n",
      "current file is: m069.jpg\n",
      "True\n",
      "[ 1706.  1706.  1706. ...,  1642.  1642.  1642.]\n",
      "current file is: f009.gif\n",
      "False\n",
      "current file is: m064.jpg\n",
      "True\n",
      "[ 1959.  1959.  1959. ...,  1895.  1895.  1895.]\n",
      "current file is: m068.jpg\n",
      "True\n",
      "[ 2123.  2123.  2123. ...,  2030.  2030.  2030.]\n",
      "current file is: m068.png\n",
      "True\n",
      "current file is: m032.png\n",
      "True\n",
      "current file is: m017.png\n",
      "True\n",
      "current file is: m067.jpg\n",
      "True\n",
      "[ 2377.  2377.  2377. ...,  2045.  2045.  2045.]\n",
      "current file is: m017.jpg\n",
      "True\n",
      "[ 2577.  2577.  2577. ...,  2282.  2282.  2282.]\n",
      "current file is: f054.jpg\n",
      "False\n",
      "[ 2998.  2998.  2998. ...,  2394.  2394.  2394.]\n",
      "current file is: m072.gif\n",
      "True\n",
      "current file is: f032.png\n",
      "False\n",
      "current file is: m070.gif\n",
      "True\n",
      "current file is: f053.jpg\n",
      "False\n",
      "[ 3253.  3253.  3253. ...,  2649.  2649.  2649.]\n",
      "current file is: m090.png\n",
      "True\n",
      "current file is: m067.png\n",
      "True\n",
      "current file is: f017.png\n",
      "False\n",
      "current file is: f046.jpg\n",
      "False\n",
      "[ 3503.  3503.  3503. ...,  2904.  2904.  2904.]\n",
      "current file is: m063.jpg\n",
      "True\n",
      "[ 2832.  2832.  2832. ...,  2537.  2537.  2537.]\n",
      "current file is: m002.png\n",
      "True\n",
      "current file is: f089.png\n",
      "False\n",
      "current file is: m003.jpg\n",
      "True\n",
      "[ 3027.  3027.  3027. ...,  2790.  2790.  2790.]\n",
      "current file is: f038.gif\n",
      "False\n",
      "current file is: m065.gif\n",
      "True\n",
      "current file is: m064.gif\n",
      "True\n",
      "current file is: m008.jpg\n",
      "True\n",
      "[ 3176.  3176.  3176. ...,  2825.  2825.  2825.]\n",
      "current file is: f085.png\n",
      "False\n",
      "current file is: f005.gif\n",
      "False\n",
      "current file is: m030.jpg\n",
      "True\n",
      "[ 3355.  3355.  3355. ...,  2995.  2995.  2995.]\n",
      "current file is: m002.jpg\n",
      "True\n",
      "[ 3595.  3595.  3595. ...,  3014.  3014.  3014.]\n",
      "current file is: m066.gif\n",
      "True\n",
      "current file is: f040.jpg\n",
      "False\n",
      "[ 3722.  3722.  3722. ...,  3159.  3159.  3159.]\n",
      "current file is: f019.png\n",
      "False\n",
      "current file is: f094.png\n",
      "False\n",
      "current file is: f040.gif\n",
      "False\n",
      "current file is: f081.jpg\n",
      "False\n",
      "[ 3977.  3977.  3977. ...,  3414.  3414.  3414.]\n",
      "current file is: f006.gif\n",
      "False\n",
      "current file is: f067.jpg\n",
      "False\n",
      "[ 4232.  4232.  4232. ...,  3669.  3669.  3669.]\n",
      "current file is: f063.jpg\n",
      "False\n",
      "[ 4487.  4487.  4487. ...,  3924.  3924.  3924.]\n",
      "current file is: f006.png\n",
      "False\n",
      "current file is: f087.png\n",
      "False\n",
      "current file is: m042.gif\n",
      "True\n",
      "current file is: m086.jpg\n",
      "True\n",
      "[ 3850.  3850.  3850. ...,  3016.  3016.  3016.]\n",
      "current file is: f082.png\n",
      "False\n",
      "current file is: f038.png\n",
      "False\n",
      "current file is: m056.jpg\n",
      "True\n",
      "[ 4105.  4105.  4105. ...,  3150.  3150.  3150.]\n",
      "current file is: m080.gif\n",
      "True\n",
      "current file is: m086.gif\n",
      "True\n",
      "current file is: f041.gif\n",
      "False\n",
      "current file is: m091.jpg\n",
      "True\n",
      "[ 4192.  4192.  4192. ...,  3405.  3405.  3405.]\n",
      "current file is: f093.png\n",
      "False\n",
      "current file is: m053.gif\n",
      "True\n",
      "current file is: m023.gif\n",
      "True\n",
      "current file is: m086.png\n",
      "True\n",
      "current file is: m077.jpg\n",
      "True\n",
      "[ 4350.  4350.  4350. ...,  3660.  3660.  3660.]\n",
      "current file is: f086.jpg\n",
      "False\n",
      "[ 4742.  4742.  4742. ...,  4179.  4179.  4179.]\n",
      "current file is: m050.gif\n",
      "True\n",
      "current file is: f082.gif\n",
      "False\n",
      "current file is: m025.gif\n",
      "True\n",
      "current file is: m091.png\n",
      "True\n",
      "current file is: f007.png\n",
      "False\n",
      "current file is: f037.gif\n",
      "False\n",
      "current file is: m036.gif\n",
      "True\n",
      "current file is: m070.png\n",
      "True\n",
      "current file is: m084.gif\n",
      "True\n",
      "current file is: f041.jpg\n",
      "False\n",
      "[ 4997.  4997.  4997. ...,  4191.  4191.  4191.]\n",
      "current file is: f014.gif\n",
      "False\n",
      "current file is: m008.png\n",
      "True\n",
      "current file is: m074.png\n",
      "True\n",
      "current file is: m002.gif\n",
      "True\n",
      "current file is: m050.png\n",
      "True\n",
      "current file is: m065.jpg\n",
      "True\n",
      "[ 4605.  4605.  4605. ...,  3895.  3895.  3895.]\n",
      "current file is: f023.gif\n",
      "False\n",
      "current file is: m045.png\n",
      "True\n",
      "current file is: m003.gif\n",
      "True\n",
      "current file is: m017.gif\n",
      "True\n",
      "current file is: m013.jpg\n",
      "True\n",
      "[ 4826.  4826.  4826. ...,  3928.  3928.  3928.]\n",
      "current file is: m056.png\n",
      "True\n",
      "current file is: f042.gif\n",
      "False\n",
      "current file is: f075.jpg\n",
      "False\n",
      "[ 5252.  5252.  5252. ...,  4430.  4430.  4430.]\n",
      "current file is: m075.gif\n",
      "True\n",
      "current file is: f021.jpg\n",
      "False\n",
      "[ 5475.  5475.  5475. ...,  4685.  4685.  4685.]\n",
      "current file is: m072.jpg\n",
      "True\n",
      "[ 5057.  5057.  5057. ...,  3948.  3948.  3948.]\n",
      "current file is: m044.png\n",
      "True\n",
      "current file is: f067.png\n",
      "False\n",
      "current file is: m064.png\n",
      "True\n",
      "current file is: m066.jpg\n",
      "True\n",
      "[ 5194.  5194.  5194. ...,  4011.  4011.  4011.]\n",
      "current file is: FEMALE.jpg\n",
      "False\n",
      "[ 5728.  5728.  5728. ...,  4892.  4892.  4892.]\n",
      "current file is: f050.gif\n",
      "False\n",
      "current file is: m036.png\n",
      "True\n",
      "current file is: f029.png\n",
      "False\n",
      "current file is: f034.png\n",
      "False\n",
      "current file is: m059.png\n",
      "True\n",
      "current file is: f019.jpg\n",
      "False\n",
      "[ 5983.  5983.  5983. ...,  5147.  5147.  5147.]\n",
      "current file is: m067.gif\n",
      "True\n",
      "current file is: f055.gif\n",
      "False\n",
      "current file is: f023.png\n",
      "False\n",
      "current file is: f017.gif\n",
      "False\n",
      "current file is: f031.png\n",
      "False\n",
      "current file is: f093.gif\n",
      "False\n",
      "current file is: m078.gif\n",
      "True\n",
      "current file is: f074.jpg\n",
      "False\n",
      "[ 6238.  6238.  6238. ...,  5402.  5402.  5402.]\n",
      "current file is: m083.png\n",
      "True\n",
      "current file is: m080.jpg\n",
      "True\n",
      "[ 5440.  5440.  5440. ...,  4253.  4253.  4253.]\n",
      "current file is: f029.jpg\n",
      "False\n",
      "[ 6493.  6493.  6493. ...,  5657.  5657.  5657.]\n",
      "current file is: f045.gif\n",
      "False\n",
      "current file is: m032.gif\n",
      "True\n",
      "current file is: m096.gif\n",
      "True\n",
      "current file is: f020.jpg\n",
      "False\n",
      "[ 6746.  6746.  6746. ...,  5912.  5912.  5912.]\n",
      "current file is: m095.jpg\n",
      "True\n",
      "[ 5687.  5687.  5687. ...,  4508.  4508.  4508.]\n",
      "current file is: f063.png\n",
      "False\n",
      "current file is: f046.gif\n",
      "False\n",
      "current file is: f092.jpg\n",
      "False\n",
      "[ 7001.  7001.  7001. ...,  6167.  6167.  6167.]\n",
      "current file is: f006.jpg\n",
      "False\n",
      "[ 7245.  7245.  7245. ...,  6208.  6208.  6208.]\n",
      "current file is: f049.gif\n",
      "False\n",
      "current file is: f074.png\n",
      "False\n",
      "current file is: f055.png\n",
      "False\n",
      "current file is: m060.png\n",
      "True\n",
      "current file is: m076.gif\n",
      "True\n",
      "current file is: f032.jpg\n",
      "False\n",
      "[ 7500.  7500.  7500. ...,  6463.  6463.  6463.]\n",
      "current file is: m045.jpg\n",
      "True\n",
      "[ 5942.  5942.  5942. ...,  4708.  4708.  4708.]\n",
      "current file is: f068.png\n",
      "False\n",
      "current file is: m100.gif\n",
      "True\n",
      "current file is: f041.png\n",
      "False\n",
      "current file is: f011.jpg\n",
      "False\n",
      "[ 7755.  7755.  7755. ...,  6588.  6588.  6588.]\n",
      "current file is: f085.jpg\n",
      "False\n",
      "[ 8010.  8010.  8010. ...,  6843.  6843.  6843.]\n",
      "current file is: m073.gif\n",
      "True\n",
      "current file is: m043.gif\n",
      "True\n",
      "current file is: f045.jpg\n",
      "False\n",
      "[ 8264.  8264.  8264. ...,  7091.  7091.  7091.]\n",
      "current file is: f021.gif\n",
      "False\n",
      "current file is: f014.png\n",
      "False\n",
      "current file is: m090.gif\n",
      "True\n",
      "current file is: m044.gif\n",
      "True\n",
      "current file is: m060.gif\n",
      "True\n",
      "current file is: m066.png\n",
      "True\n",
      "current file is: f053.gif\n",
      "False\n",
      "current file is: m049.jpg\n",
      "True\n",
      "[ 6193.  6193.  6193. ...,  4920.  4920.  4920.]\n",
      "current file is: m049.png\n",
      "True\n",
      "current file is: f032.gif\n",
      "False\n",
      "current file is: f071.png\n",
      "False\n",
      "current file is: f037.png\n",
      "False\n",
      "current file is: f084.jpg\n",
      "False\n",
      "[ 8519.  8519.  8519. ...,  7346.  7346.  7346.]\n",
      "current file is: m090.jpg\n",
      "True\n",
      "[ 6448.  6448.  6448. ...,  5175.  5175.  5175.]\n",
      "current file is: f020.gif\n",
      "False\n",
      "current file is: f040.png\n",
      "False\n",
      "current file is: m069.gif\n",
      "True\n",
      "current file is: m004.jpg\n",
      "True\n",
      "[ 6618.  6618.  6618. ...,  5430.  5430.  5430.]\n",
      "current file is: m052.gif\n",
      "True\n",
      "current file is: f037.jpg\n",
      "False\n",
      "[ 8774.  8774.  8774. ...,  7387.  7387.  7387.]\n",
      "current file is: m041.png\n",
      "True\n",
      "current file is: m063.gif\n",
      "True\n",
      "current file is: m050.jpg\n",
      "True\n",
      "[ 6822.  6822.  6822. ...,  5547.  5547.  5547.]\n",
      "current file is: m042.jpg\n",
      "True\n",
      "[ 7077.  7077.  7077. ...,  5793.  5793.  5793.]\n",
      "current file is: f072.jpg\n",
      "False\n",
      "[ 9028.  9028.  9028. ...,  7642.  7642.  7642.]\n",
      "current file is: f077.png\n",
      "False\n",
      "current file is: m099.png\n",
      "True\n",
      "current file is: f092.png\n",
      "False\n",
      "current file is: f071.gif\n",
      "False\n",
      "current file is: f055.jpg\n",
      "False\n",
      "[ 9283.  9283.  9283. ...,  7897.  7897.  7897.]\n",
      "current file is: m030.gif\n",
      "True\n",
      "current file is: m060.jpg\n",
      "True\n",
      "[ 7332.  7332.  7332. ...,  5793.  5793.  5793.]\n",
      "current file is: f093.jpg\n",
      "False\n",
      "[ 9536.  9536.  9536. ...,  7974.  7974.  7974.]\n",
      "current file is: m013.gif\n",
      "True\n",
      "current file is: f014.jpg\n",
      "False\n",
      "[ 9758.  9758.  9758. ...,  8228.  8228.  8228.]\n",
      "current file is: m053.jpg\n",
      "True\n",
      "[ 7587.  7587.  7587. ...,  5970.  5970.  5970.]\n",
      "current file is: f077.gif\n",
      "False\n",
      "current file is: m004.gif\n",
      "True\n",
      "current file is: m025.jpg\n",
      "True\n",
      "[ 7743.  7743.  7743. ...,  6008.  6008.  6008.]\n",
      "current file is: f094.jpg\n",
      "False\n",
      "[ 9961.  9961.  9961. ...,  8483.  8483.  8483.]\n",
      "current file is: f020.png\n",
      "False\n",
      "current file is: m076.jpg\n",
      "True\n",
      "[ 7901.  7901.  7901. ...,  6263.  6263.  6263.]\n",
      "current file is: m099.jpg\n",
      "True\n",
      "[ 8029.  8029.  8029. ...,  6518.  6518.  6518.]\n",
      "current file is: f045.png\n",
      "False\n",
      "current file is: f081.gif\n",
      "False\n",
      "current file is: f053.png\n",
      "False\n",
      "current file is: m041.jpg\n",
      "True\n",
      "[ 8284.  8284.  8284. ...,  6552.  6552.  6552.]\n",
      "current file is: m075.png\n",
      "True\n",
      "current file is: m096.jpg\n",
      "True\n",
      "[ 8539.  8539.  8539. ...,  6807.  6807.  6807.]\n",
      "current file is: m052.png\n",
      "True\n",
      "current file is: f082.jpg\n",
      "False\n",
      "[ 10216.  10216.  10216. ...,   8738.   8738.   8738.]\n",
      "current file is: f017.jpg\n",
      "False\n",
      "[ 10469.  10469.  10469. ...,   8922.   8922.   8922.]\n",
      "current file is: m091.gif\n",
      "True\n",
      "current file is: m078.jpg\n",
      "True\n",
      "[ 8745.  8745.  8745. ...,  6835.  6835.  6835.]\n",
      "current file is: m045.gif\n",
      "True\n",
      "current file is: f031.gif\n",
      "False\n",
      "current file is: f059.jpg\n",
      "False\n",
      "[ 10724.  10724.  10724. ...,   9177.   9177.   9177.]\n",
      "current file is: f033.png\n",
      "False\n",
      "current file is: m083.jpg\n",
      "True\n",
      "[ 9000.  9000.  9000. ...,  6835.  6835.  6835.]\n",
      "current file is: m065.png\n",
      "True\n",
      "current file is: m056.gif\n",
      "True\n",
      "current file is: f011.png\n",
      "False\n",
      "current file is: m008.gif\n",
      "True\n",
      "current file is: f010.jpg\n",
      "False\n",
      "[ 10972.  10972.  10972. ...,   9221.   9221.   9221.]\n",
      "current file is: f054.png\n",
      "False\n",
      "current file is: f065.png\n",
      "False\n",
      "current file is: m032.jpg\n",
      "True\n",
      "[ 9174.  9174.  9174. ...,  6867.  6867.  6867.]\n",
      "current file is: f034.gif\n",
      "False\n",
      "current file is: m052.jpg\n",
      "True\n",
      "[ 9429.  9429.  9429. ...,  7116.  7116.  7116.]\n",
      "current file is: f061.png\n",
      "False\n",
      "current file is: m023.jpg\n",
      "True\n",
      "[ 9666.  9666.  9666. ...,  7129.  7129.  7129.]\n",
      "current file is: m084.jpg\n",
      "True\n",
      "[ 9897.  9897.  9897. ...,  7384.  7384.  7384.]\n",
      "current file is: m069.png\n",
      "True\n",
      "current file is: f034.jpg\n",
      "False\n",
      "[ 11226.  11226.  11226. ...,   9476.   9476.   9476.]\n",
      "current file is: f059.gif\n",
      "False\n",
      "current file is: m077.gif\n",
      "True\n",
      "current file is: f033.gif\n",
      "False\n",
      "current file is: f010.gif\n",
      "False\n",
      "current file is: m004.png\n",
      "True\n",
      "current file is: m051.jpg\n",
      "True\n",
      "[ 10149.  10149.  10149. ...,   7639.   7639.   7639.]\n",
      "current file is: f075.gif\n",
      "False\n",
      "current file is: f042.png\n",
      "False\n",
      "current file is: m073.jpg\n",
      "True\n",
      "[ 10404.  10404.  10404. ...,   7894.   7894.   7894.]\n",
      "current file is: m093.png\n",
      "True\n",
      "current file is: f087.jpg\n",
      "False\n",
      "[ 11481.  11481.  11481. ...,   9545.   9545.   9545.]\n",
      "current file is: m044.jpg\n",
      "True\n",
      "[ 10594.  10594.  10594. ...,   8020.   8020.   8020.]\n",
      "current file is: m077.png\n",
      "True\n",
      "current file is: m068.gif\n",
      "True\n",
      "current file is: f065.gif\n",
      "False\n",
      "current file is: m041.gif\n",
      "True\n",
      "current file is: MALE.jpg\n",
      "False\n",
      "[ 11736.  11736.  11736. ...,   9731.   9731.   9731.]\n",
      "current file is: m073.png\n",
      "True\n",
      "current file is: m099.gif\n",
      "True\n",
      "current file is: m053.png\n",
      "True\n",
      "current file is: m025.png\n",
      "True\n",
      "current file is: m059.gif\n",
      "True\n",
      "current file is: f031.jpg\n",
      "False\n",
      "[ 11991.  11991.  11991. ...,   9784.   9784.   9784.]\n",
      "current file is: f092.gif\n",
      "False\n",
      "current file is: f023.jpg\n",
      "False\n",
      "[ 12246.  12246.  12246. ...,   9879.   9879.   9879.]\n",
      "current file is: f049.jpg\n",
      "False\n",
      "[ 12499.  12499.  12499. ...,  10134.  10134.  10134.]\n",
      "current file is: m063.png\n",
      "True\n",
      "current file is: f054.gif\n",
      "False\n",
      "current file is: f065.jpg\n",
      "False\n",
      "[ 12754.  12754.  12754. ...,  10386.  10386.  10386.]\n",
      "current file is: f077.jpg\n",
      "False\n",
      "[ 13009.  13009.  13009. ...,  10639.  10639.  10639.]\n",
      "current file is: m059.jpg\n",
      "True\n",
      "[ 10849.  10849.  10849. ...,   8056.   8056.   8056.]\n",
      "current file is: m095.png\n",
      "True\n",
      "current file is: m043.png\n",
      "True\n",
      "current file is: m080.png\n",
      "True\n",
      "current file is: m013.png\n",
      "True\n",
      "current file is: f049.png\n",
      "False\n",
      "current file is: m003.png\n",
      "True\n",
      "current file is: m072.png\n",
      "True\n",
      "current file is: m051.png\n",
      "True\n",
      "current file is: f089.gif\n",
      "False\n",
      "[ 216.98  216.98  216.98 ...,  161.12  161.12  161.12]\n",
      "[ 250.17307692  250.17307692  250.17307692 ...,  204.59615385  204.59615385\n",
      "  204.59615385]\n"
     ]
    },
    {
     "name": "stderr",
     "output_type": "stream",
     "text": [
      "qdalda.py:24: RuntimeWarning: invalid value encountered in divide\n",
      "  Xs = (X - self.means) / self.stds\n"
     ]
    },
    {
     "ename": "ValueError",
     "evalue": "shapes (1,1) and (714714,1) not aligned: 1 (dim 1) != 714714 (dim 0)",
     "output_type": "error",
     "traceback": [
      "\u001b[0;31m---------------------------------------------------------------------------\u001b[0m",
      "\u001b[0;31mValueError\u001b[0m                                Traceback (most recent call last)",
      "\u001b[0;32m<ipython-input-7-36e372041b03>\u001b[0m in \u001b[0;36m<module>\u001b[0;34m()\u001b[0m\n\u001b[1;32m     90\u001b[0m \u001b[0mX\u001b[0m \u001b[0;34m=\u001b[0m \u001b[0mmaleTar\u001b[0m\u001b[0;34m\u001b[0m\u001b[0m\n\u001b[1;32m     91\u001b[0m \u001b[0mT\u001b[0m \u001b[0;34m=\u001b[0m \u001b[0;36m1\u001b[0m\u001b[0;34m\u001b[0m\u001b[0m\n\u001b[0;32m---> 92\u001b[0;31m \u001b[0mmodel\u001b[0m \u001b[0;34m=\u001b[0m \u001b[0mtrainLDA\u001b[0m\u001b[0;34m(\u001b[0m\u001b[0mX\u001b[0m\u001b[0;34m,\u001b[0m\u001b[0mT\u001b[0m\u001b[0;34m)\u001b[0m\u001b[0;34m\u001b[0m\u001b[0m\n\u001b[0m",
      "\u001b[0;32m<ipython-input-5-810d3777eb36>\u001b[0m in \u001b[0;36mtrainLDA\u001b[0;34m(X, T, parameters)\u001b[0m\n\u001b[1;32m      1\u001b[0m \u001b[0;32mdef\u001b[0m \u001b[0mtrainLDA\u001b[0m\u001b[0;34m(\u001b[0m\u001b[0mX\u001b[0m\u001b[0;34m,\u001b[0m\u001b[0mT\u001b[0m\u001b[0;34m,\u001b[0m\u001b[0mparameters\u001b[0m \u001b[0;34m=\u001b[0m \u001b[0;36m0\u001b[0m\u001b[0;34m)\u001b[0m\u001b[0;34m:\u001b[0m\u001b[0;34m\u001b[0m\u001b[0m\n\u001b[1;32m      2\u001b[0m     \u001b[0mlda\u001b[0m \u001b[0;34m=\u001b[0m \u001b[0mql\u001b[0m\u001b[0;34m.\u001b[0m\u001b[0mLDA\u001b[0m\u001b[0;34m(\u001b[0m\u001b[0;34m)\u001b[0m\u001b[0;34m\u001b[0m\u001b[0m\n\u001b[0;32m----> 3\u001b[0;31m     \u001b[0mlda\u001b[0m\u001b[0;34m.\u001b[0m\u001b[0mtrain\u001b[0m\u001b[0;34m(\u001b[0m\u001b[0mX\u001b[0m\u001b[0;34m,\u001b[0m\u001b[0mT\u001b[0m\u001b[0;34m)\u001b[0m\u001b[0;34m\u001b[0m\u001b[0m\n\u001b[0m\u001b[1;32m      4\u001b[0m     \u001b[0;32mreturn\u001b[0m \u001b[0mlda\u001b[0m\u001b[0;34m\u001b[0m\u001b[0m\n\u001b[1;32m      5\u001b[0m \u001b[0;32mdef\u001b[0m \u001b[0mevaluateLDA\u001b[0m\u001b[0;34m(\u001b[0m\u001b[0mmodel\u001b[0m\u001b[0;34m,\u001b[0m\u001b[0mX\u001b[0m\u001b[0;34m,\u001b[0m\u001b[0mT\u001b[0m\u001b[0;34m)\u001b[0m\u001b[0;34m:\u001b[0m\u001b[0;34m\u001b[0m\u001b[0m\n",
      "\u001b[0;32m/s/bach/n/under/grundman/cs480/SProject/qdalda.pyc\u001b[0m in \u001b[0;36mtrain\u001b[0;34m(self, X, T)\u001b[0m\n\u001b[1;32m     41\u001b[0m             \u001b[0mself\u001b[0m\u001b[0;34m.\u001b[0m\u001b[0msigmaInv\u001b[0m\u001b[0;34m.\u001b[0m\u001b[0mappend\u001b[0m\u001b[0;34m(\u001b[0m \u001b[0mnp\u001b[0m\u001b[0;34m.\u001b[0m\u001b[0mlinalg\u001b[0m\u001b[0;34m.\u001b[0m\u001b[0mpinv\u001b[0m\u001b[0;34m(\u001b[0m\u001b[0mself\u001b[0m\u001b[0;34m.\u001b[0m\u001b[0msigma\u001b[0m\u001b[0;34m[\u001b[0m\u001b[0;34m-\u001b[0m\u001b[0;36m1\u001b[0m\u001b[0;34m]\u001b[0m\u001b[0;34m)\u001b[0m \u001b[0;34m)\u001b[0m    \u001b[0;31m# pinv in case Sigma is singular\u001b[0m\u001b[0;34m\u001b[0m\u001b[0m\n\u001b[1;32m     42\u001b[0m             \u001b[0mself\u001b[0m\u001b[0;34m.\u001b[0m\u001b[0mprior\u001b[0m\u001b[0;34m.\u001b[0m\u001b[0mappend\u001b[0m\u001b[0;34m(\u001b[0m \u001b[0mnp\u001b[0m\u001b[0;34m.\u001b[0m\u001b[0msum\u001b[0m\u001b[0;34m(\u001b[0m\u001b[0mrowsThisClass\u001b[0m\u001b[0;34m)\u001b[0m \u001b[0;34m/\u001b[0m \u001b[0mfloat\u001b[0m\u001b[0;34m(\u001b[0m\u001b[0mnSamples\u001b[0m\u001b[0;34m)\u001b[0m \u001b[0;34m)\u001b[0m\u001b[0;34m\u001b[0m\u001b[0m\n\u001b[0;32m---> 43\u001b[0;31m         \u001b[0mself\u001b[0m\u001b[0;34m.\u001b[0m\u001b[0m_finishTrain\u001b[0m\u001b[0;34m(\u001b[0m\u001b[0;34m)\u001b[0m\u001b[0;34m\u001b[0m\u001b[0m\n\u001b[0m\u001b[1;32m     44\u001b[0m \u001b[0;34m\u001b[0m\u001b[0m\n\u001b[1;32m     45\u001b[0m     \u001b[0;32mdef\u001b[0m \u001b[0m_finishTrain\u001b[0m\u001b[0;34m(\u001b[0m\u001b[0mself\u001b[0m\u001b[0;34m)\u001b[0m\u001b[0;34m:\u001b[0m\u001b[0;34m\u001b[0m\u001b[0m\n",
      "\u001b[0;32m/s/bach/n/under/grundman/cs480/SProject/qdalda.pyc\u001b[0m in \u001b[0;36m_finishTrain\u001b[0;34m(self)\u001b[0m\n\u001b[1;32m     87\u001b[0m         \u001b[0mself\u001b[0m\u001b[0;34m.\u001b[0m\u001b[0mdiscriminantCoefficient\u001b[0m \u001b[0;34m=\u001b[0m \u001b[0;34m[\u001b[0m\u001b[0;34m]\u001b[0m\u001b[0;34m\u001b[0m\u001b[0m\n\u001b[1;32m     88\u001b[0m         \u001b[0;32mfor\u001b[0m \u001b[0mki\u001b[0m \u001b[0;32min\u001b[0m \u001b[0mrange\u001b[0m\u001b[0;34m(\u001b[0m\u001b[0mlen\u001b[0m\u001b[0;34m(\u001b[0m\u001b[0mself\u001b[0m\u001b[0;34m.\u001b[0m\u001b[0mclasses\u001b[0m\u001b[0;34m)\u001b[0m\u001b[0;34m)\u001b[0m\u001b[0;34m:\u001b[0m\u001b[0;34m\u001b[0m\u001b[0m\n\u001b[0;32m---> 89\u001b[0;31m             \u001b[0msigmaMu\u001b[0m \u001b[0;34m=\u001b[0m \u001b[0mnp\u001b[0m\u001b[0;34m.\u001b[0m\u001b[0mdot\u001b[0m\u001b[0;34m(\u001b[0m\u001b[0mself\u001b[0m\u001b[0;34m.\u001b[0m\u001b[0msigmaMeanInv\u001b[0m\u001b[0;34m,\u001b[0m \u001b[0mself\u001b[0m\u001b[0;34m.\u001b[0m\u001b[0mmu\u001b[0m\u001b[0;34m[\u001b[0m\u001b[0mki\u001b[0m\u001b[0;34m]\u001b[0m\u001b[0;34m)\u001b[0m\u001b[0;34m\u001b[0m\u001b[0m\n\u001b[0m\u001b[1;32m     90\u001b[0m             \u001b[0mself\u001b[0m\u001b[0;34m.\u001b[0m\u001b[0mdiscriminantConstant\u001b[0m\u001b[0;34m.\u001b[0m\u001b[0mappend\u001b[0m\u001b[0;34m(\u001b[0m \u001b[0;34m-\u001b[0m\u001b[0;36m0.5\u001b[0m \u001b[0;34m*\u001b[0m \u001b[0mnp\u001b[0m\u001b[0;34m.\u001b[0m\u001b[0mdot\u001b[0m\u001b[0;34m(\u001b[0m\u001b[0mself\u001b[0m\u001b[0;34m.\u001b[0m\u001b[0mmu\u001b[0m\u001b[0;34m[\u001b[0m\u001b[0mki\u001b[0m\u001b[0;34m]\u001b[0m\u001b[0;34m.\u001b[0m\u001b[0mT\u001b[0m\u001b[0;34m,\u001b[0m \u001b[0msigmaMu\u001b[0m\u001b[0;34m)\u001b[0m \u001b[0;34m)\u001b[0m\u001b[0;34m\u001b[0m\u001b[0m\n\u001b[1;32m     91\u001b[0m             \u001b[0mself\u001b[0m\u001b[0;34m.\u001b[0m\u001b[0mdiscriminantCoefficient\u001b[0m\u001b[0;34m.\u001b[0m\u001b[0mappend\u001b[0m\u001b[0;34m(\u001b[0m \u001b[0msigmaMu\u001b[0m \u001b[0;34m)\u001b[0m\u001b[0;34m\u001b[0m\u001b[0m\n",
      "\u001b[0;31mValueError\u001b[0m: shapes (1,1) and (714714,1) not aligned: 1 (dim 1) != 714714 (dim 0)"
     ]
    }
   ],
   "source": [
    "import os\n",
    "import PIL.Image\n",
    "#from resizeimage import resizeimage\n",
    "from IPython.display import Image\n",
    "from scipy.misc import imread\n",
    "import scipy.misc\n",
    " \n",
    "path = './faces'\n",
    "listing = os.listdir(path)\n",
    "male_image = np.zeros((539,442,3))\n",
    "lin_mal = male_image.flatten()\n",
    "\n",
    "female_image = np.zeros((539,442,3))\n",
    "lin_fem = female_image.flatten()\n",
    "\n",
    "males = 0\n",
    "females = 0\n",
    "\n",
    "#Commented code used to generate various filetypes as original filetype (gif) does not work in Jupyter\n",
    "#for infile in listing:\n",
    "#    base_file, ext = os.path.splitext(infile)\n",
    "#    #if ext == \".jpg\":\n",
    "#    #    os.rename('./faces/'+infile, './faces/' + base_file + '.gif')\n",
    "#    im = PIL.Image.open('./faces/' + infile).convert('RGB').resize((442,539))\n",
    "#    im.save('./faces/' + base_file + '.jpg')\n",
    "for infile in listing:\n",
    "    #fd_img = PIL.Image.open('./faces/' + infile,'r').resize((442,539))\n",
    "    base_file, ext = os.path.splitext(infile)\n",
    "    #img = PIL.Image.open(fd_img)\n",
    "    #img = resizeimage.resize_contain(img,[442,539])\n",
    "    #img.save(infile,img.format)\n",
    "#This code was intended to print all images in the code output block but was unsuccessful\n",
    "#    if ext == '.png':\n",
    "#        Image('./faces/' + infile)\n",
    "    #with open(('./faces/'+infile),'rb') as f:\n",
    "    #    display(Image(f.read()), format='png')\n",
    "    #![title](faces/f084.gif)\n",
    "    print \"current file is: \" + infile\n",
    "    #This true/false will be used to train the algorithms - it won't have the filename, so this should be okay\n",
    "    print infile.startswith('m')\n",
    "    #Convert image to string of values and average it with others of this type\n",
    "    #img_str = ' '.join(map(str,fd_img.flatten().tolist()))\n",
    "    #This gets an image into an array\n",
    "    img = imread('./faces/' + infile)\n",
    "    \n",
    "    #This flattens the image into a 1 dimensional array then turns it into a string if I need that\n",
    "    lin_img = img.flatten()\n",
    "    pixel_list = lin_img.tolist()\n",
    "    pixel_str_list = map(str, pixel_list)\n",
    "    img_str = ' '.join(pixel_str_list)\n",
    "\n",
    "    #X is now a string of pixel values\n",
    "    X = lin_img\n",
    "    #print lin_img\n",
    "    #print lin_mal\n",
    "    #print X\n",
    "    T = infile.startswith('m')\n",
    "#    model = trainLDA(X,T)\n",
    "    if T == True and ext == \".jpg\":\n",
    "        #for val in lin_mal:\n",
    "        #    lin_mal(val) = lin_mal(val) + lin_img(val)\n",
    "        #print len(lin_mal)\n",
    "        #print len(lin_img)\n",
    "        lin_mal = lin_mal + lin_img\n",
    "        print lin_mal\n",
    "        males = males + 1\n",
    "    elif T == False and ext == \".jpg\":\n",
    "        lin_fem = lin_fem + lin_img\n",
    "        print lin_fem\n",
    "        females = females + 1\n",
    "#        for val in img:\n",
    "#            female_image(val) = female_image(val) + img(val)\n",
    "#            females = females + 1\n",
    "#for val in male_image:\n",
    "#    male_image(val) = male_image(val)/males\n",
    "#for val in female_image:\n",
    "#    female_image(val) = female_image(val)/females\n",
    "lin_mal = lin_mal/males\n",
    "lin_fem = lin_fem/females\n",
    "print lin_mal\n",
    "print lin_fem\n",
    "male_image = np.reshape(lin_mal, (539,442,3))\n",
    "female_image = np.reshape(lin_fem, (539,442,3))\n",
    "#male_image.save(\"./faces/MALE.jpg\",male_image.format)\n",
    "scipy.misc.imsave('./faces/MALE.jpg',male_image)\n",
    "scipy.misc.imsave('./faces/FEMALE.jpg',female_image)\n",
    "#print male_image\n",
    "#print female_image\n",
    "maleTar = np.matrix(lin_mal)\n",
    "X = maleTar\n",
    "T = 1\n",
    "model = trainLDA(X,T)"
   ]
  },
  {
   "cell_type": "markdown",
   "metadata": {
    "deletable": true,
    "editable": true
   },
   "source": [
    "Example of an image from this set:"
   ]
  },
  {
   "cell_type": "markdown",
   "metadata": {
    "deletable": true,
    "editable": true
   },
   "source": [
    "![image](./faces/f084.jpg)"
   ]
  },
  {
   "cell_type": "markdown",
   "metadata": {
    "deletable": true,
    "editable": true
   },
   "source": [
    "### Captain's Log"
   ]
  },
  {
   "cell_type": "markdown",
   "metadata": {
    "deletable": true,
    "editable": true
   },
   "source": [
    "Getting stuck in this second attempt at this - running out of time to repeat the experiment, coding, and preparation."
   ]
  },
  {
   "cell_type": "markdown",
   "metadata": {
    "deletable": true,
    "editable": true
   },
   "source": [
    "Attempts this time through have been to create a ghost image by hand for each the male and female image sets and use that for training - however, averaging the images is creating difficulties.  Further, sending the pixels directly into the LDA, QDA, and NN is also for some reason causing trouble this time.  I believe it is due to some alteration that I made a while back but can't seem to remember."
   ]
  },
  {
   "cell_type": "markdown",
   "metadata": {
    "deletable": true,
    "editable": true
   },
   "source": [
    "For some reason, I'm getting 'can't assign to function call' while trying to create an average of ints to create the ghost images.  I've tried various fixes for this (flattening the image to a 1D array, converting to string)."
   ]
  },
  {
   "cell_type": "markdown",
   "metadata": {
    "deletable": true,
    "editable": true
   },
   "source": [
    "Tried another fix.  No luck... ValueError: operands could not be broadcast together with shapes (238238,) (714714,) \n",
    "Apparently (if I'm right), this means that I can't directly add two arrays together because they're different sizes.  I would expect this with the .gif images, but this error occurred with a .jpg image which I specifically went through and saved in the resized form.  This means they probably did not resize correctly, which means that directly working with the pixels will not work until I figure this out.  It's late and I'm burned out... hopefully tomorrow I can get this working."
   ]
  },
  {
   "cell_type": "markdown",
   "metadata": {
    "collapsed": true,
    "deletable": true,
    "editable": true
   },
   "source": [
    "I've had what I think is a revelation - I've been using Python 3 at home, which I believe is part of why some of what I've been attempting hasn't worked.  I hope to find workarounds soon."
   ]
  },
  {
   "cell_type": "markdown",
   "metadata": {
    "deletable": true,
    "editable": true
   },
   "source": [
    "WOW. Okay. Yeah, forgot that since I had to convert it to RGB, I'd have 3 values for each grayscale pixel, so my image would be 3 times the size I originally thought.  Now I just have to convert my 1D array to a 2D array and into a .jpg image and I'll have an average of the male faces (since I was working on that first)."
   ]
  },
  {
   "cell_type": "markdown",
   "metadata": {
    "deletable": true,
    "editable": true
   },
   "source": [
    "![image](./faces/MALE.jpg)"
   ]
  },
  {
   "cell_type": "markdown",
   "metadata": {
    "deletable": true,
    "editable": true
   },
   "source": [
    "Getting an image now.  Not a ghost image... just a bunch of horizontal lines in a rgb pattern.  Still figuring it out."
   ]
  },
  {
   "cell_type": "markdown",
   "metadata": {
    "deletable": true,
    "editable": true
   },
   "source": [
    "Well, it's an elongated grayscale image now.  Not quite there.  Not getting a face in any respect here."
   ]
  },
  {
   "cell_type": "markdown",
   "metadata": {
    "deletable": true,
    "editable": true
   },
   "source": [
    "And now it's compact grayscale madness.  I think I have my axes flipped."
   ]
  },
  {
   "cell_type": "markdown",
   "metadata": {
    "deletable": true,
    "editable": true
   },
   "source": [
    "I'm getting something a little better I think.  It's about the same size as the woman above and has some density differences in the image, but it's RGB.  Still trying different things."
   ]
  },
  {
   "cell_type": "markdown",
   "metadata": {
    "deletable": true,
    "editable": true
   },
   "source": [
    "WHOA! Success!  The above image is the ghost male image.  Next is female."
   ]
  },
  {
   "cell_type": "markdown",
   "metadata": {
    "deletable": true,
    "editable": true
   },
   "source": [
    "![image](./faces/FEMALE.jpg)"
   ]
  },
  {
   "cell_type": "markdown",
   "metadata": {
    "deletable": true,
    "editable": true
   },
   "source": [
    "What a banshee. Much more discernible face in the male image.  This is probably a testament to males having a more defined appearance and women being more distinct - or simply due to differences in photography.  "
   ]
  },
  {
   "cell_type": "markdown",
   "metadata": {
    "deletable": true,
    "editable": true
   },
   "source": [
    "I keep getting an error \"too many indices for array\".  I hope this doesn't prevent me from running these pixels or else this will have been a waste of time."
   ]
  },
  {
   "cell_type": "markdown",
   "metadata": {
    "deletable": true,
    "editable": true
   },
   "source": [
    "Now I keep getting various shape errors.  Pretty stuck again.  I keep wanting to train the male ghost face against the value 1 and female against 0, or train a group of male faces against the male ghost face (and same for female), or train a group of male faces against 1 and females against 0 but none of these approaches are cooperating with me."
   ]
  },
  {
   "cell_type": "markdown",
   "metadata": {
    "collapsed": true,
    "deletable": true,
    "editable": true
   },
   "source": [
    "## Results"
   ]
  },
  {
   "cell_type": "markdown",
   "metadata": {},
   "source": [
    "Unfortunately, I haven't been able to get the shape errors worked out in time.  Theoretically I'd be able to train these face images against the ghost images and against a 1 or a 0 in NN, LDA, and QDA.  The latter two would give means of binary classification between male and female faces, and to what degree the classification was successful.  NN would have been used more to derive what \"features\" (in this case, pixel location intensity density) appeared where most commonly in male and female faces.  My predictions going off the ghost images above is that the male faces would likely have the eyes as an especially learned feature.  Surprisingly the women would not likely have had any features stand out - I would have expected hair to make a difference between the two, but the background of the male images gets rid of this possibility.\n",
    "\n",
    "I expect we would have seen something more discernible come out of the female faces if these images had been in color.  I'm fairly disappointed in my lack of ability to get the tests working and I believe that the experiment is close enough that it could be tweaked slightly and then expanded within an hour by someone who wanted to see the expected results come to life.  Unfortunately, time is not permitting."
   ]
  },
  {
   "cell_type": "markdown",
   "metadata": {},
   "source": [
    "## Conclusion\n",
    "\n",
    "The experiment was a failure.  It was more successful the first time through with the approach to the experiment fresh in my mind, and the tools I'd been used to, with more time (and particularly free time, with finals abound) to work out the kinks.  Unfortunately I had never completed the analysis of the previous tests, and when I lost the data and had to restart, it was already too late.  So while this experiment was a failure, I fully believe it is near enough to completion that it could be repeated or expanded and be successful.\n",
    "\n",
    "It is worth noting that for some reason, even with mlutils commented out, each cell must be run individually because mlutils will prevent the rest of the code cells from running to completion.  For anyone attempting to expand or re-run the project, please make note of this and either run the cells individually or fix the problem mlutils before running the experiment.\n",
    "\n",
    "Thank you for reading my final entry.\n",
    "\n",
    "~Brent"
   ]
  },
  {
   "cell_type": "code",
   "execution_count": null,
   "metadata": {
    "collapsed": true
   },
   "outputs": [],
   "source": []
  }
 ],
 "metadata": {
  "kernelspec": {
   "display_name": "Python 2",
   "language": "python",
   "name": "python2"
  },
  "language_info": {
   "codemirror_mode": {
    "name": "ipython",
    "version": 2
   },
   "file_extension": ".py",
   "mimetype": "text/x-python",
   "name": "python",
   "nbconvert_exporter": "python",
   "pygments_lexer": "ipython2",
   "version": "2.7.13"
  }
 },
 "nbformat": 4,
 "nbformat_minor": 2
}
